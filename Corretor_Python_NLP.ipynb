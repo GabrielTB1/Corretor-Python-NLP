{
  "nbformat": 4,
  "nbformat_minor": 0,
  "metadata": {
    "colab": {
      "provenance": [],
      "authorship_tag": "ABX9TyO3gUDUlwctb5zrxW5n7GNj",
      "include_colab_link": true
    },
    "kernelspec": {
      "name": "python3",
      "display_name": "Python 3"
    },
    "language_info": {
      "name": "python"
    }
  },
  "cells": [
    {
      "cell_type": "markdown",
      "metadata": {
        "id": "view-in-github",
        "colab_type": "text"
      },
      "source": [
        "<a href=\"https://colab.research.google.com/github/GabrielTB1/Corretor_Python_NLP/blob/main/Corretor_Python_NLP.ipynb\" target=\"_parent\"><img src=\"https://colab.research.google.com/assets/colab-badge.svg\" alt=\"Open In Colab\"/></a>"
      ]
    },
    {
      "cell_type": "code",
      "execution_count": 1,
      "metadata": {
        "colab": {
          "base_uri": "https://localhost:8080/"
        },
        "id": "w9V7KmLWOv9q",
        "outputId": "2e59d336-56bf-4a9c-b4a1-bad64e20aa8b"
      },
      "outputs": [
        {
          "output_type": "stream",
          "name": "stdout",
          "text": [
            "\n",
            "\n",
            "\n",
            "imagem \n",
            "\n",
            "Temos a seguinte classe que representa um usuário no nosso sistema:\n",
            "\n",
            "java\n",
            "\n",
            "Para salvar um novo usuário, várias validações são feitas, como por exemplo: Ver se o nome só contém letras, [**o CPF só números**] e ver se o usuário possui no mínimo 18 anos. Veja o método que faz essa validação:\n",
            "\n",
            "java \n",
            "\n",
            "Suponha agora que eu tenha outra classe, a classe `Produto`, que contém um atributo nome e eu quero fazer a mesma validação que fiz para o nome do usuário: Ver se só contém letras. E aí? Vou\n"
          ]
        }
      ],
      "source": [
        "with open(\"artigos.txt\",\"r\") as f:\n",
        "  artigos = f.read()\n",
        "\n",
        "print(artigos[:500])"
      ]
    },
    {
      "cell_type": "code",
      "source": [
        "len(artigos)"
      ],
      "metadata": {
        "id": "xG2Ep9xrQAbE",
        "colab": {
          "base_uri": "https://localhost:8080/"
        },
        "outputId": "2cd74924-842d-4d70-a007-b3682b1b9b3a"
      },
      "execution_count": 2,
      "outputs": [
        {
          "output_type": "execute_result",
          "data": {
            "text/plain": [
              "2605046"
            ]
          },
          "metadata": {},
          "execution_count": 2
        }
      ]
    },
    {
      "cell_type": "code",
      "source": [
        "len(\"Olá\")"
      ],
      "metadata": {
        "colab": {
          "base_uri": "https://localhost:8080/"
        },
        "id": "oKqcnVfb9x4N",
        "outputId": "1d18e0c3-a99e-452d-a7f9-205855716084"
      },
      "execution_count": 3,
      "outputs": [
        {
          "output_type": "execute_result",
          "data": {
            "text/plain": [
              "3"
            ]
          },
          "metadata": {},
          "execution_count": 3
        }
      ]
    },
    {
      "cell_type": "code",
      "source": [
        "texto_exemplo = \"Olá, tudo bem?\"\n",
        "tokens = texto_exemplo.split()"
      ],
      "metadata": {
        "id": "v_rzX-QJ92WF"
      },
      "execution_count": 4,
      "outputs": []
    },
    {
      "cell_type": "code",
      "source": [
        "print(len(tokens))"
      ],
      "metadata": {
        "colab": {
          "base_uri": "https://localhost:8080/"
        },
        "id": "pL2rzmtf-PSm",
        "outputId": "86cda632-1422-4c9f-8b03-84fa5d87d74f"
      },
      "execution_count": 5,
      "outputs": [
        {
          "output_type": "stream",
          "name": "stdout",
          "text": [
            "3\n"
          ]
        }
      ]
    },
    {
      "cell_type": "code",
      "source": [
        "print(tokens)"
      ],
      "metadata": {
        "colab": {
          "base_uri": "https://localhost:8080/"
        },
        "id": "uq43dMhO-Sy1",
        "outputId": "35edd52f-60fe-43c7-e288-cdaf0b519101"
      },
      "execution_count": 6,
      "outputs": [
        {
          "output_type": "stream",
          "name": "stdout",
          "text": [
            "['Olá,', 'tudo', 'bem?']\n"
          ]
        }
      ]
    },
    {
      "cell_type": "code",
      "source": [
        "import nltk \n",
        "nltk.download('punkt')\n",
        "\n",
        "palavras_separadas = nltk.tokenize.word_tokenize(texto_exemplo)"
      ],
      "metadata": {
        "id": "AayYUAroSSQs",
        "colab": {
          "base_uri": "https://localhost:8080/"
        },
        "outputId": "2b53461c-f556-4b32-9bdd-30cb11be57f7"
      },
      "execution_count": 7,
      "outputs": [
        {
          "output_type": "stream",
          "name": "stderr",
          "text": [
            "[nltk_data] Downloading package punkt to /root/nltk_data...\n",
            "[nltk_data]   Unzipping tokenizers/punkt.zip.\n"
          ]
        }
      ]
    },
    {
      "cell_type": "code",
      "source": [
        "print(palavras_separadas)"
      ],
      "metadata": {
        "colab": {
          "base_uri": "https://localhost:8080/"
        },
        "id": "gBX1Gwj3-znS",
        "outputId": "be489fc2-05ca-4a3b-ab18-8df20bbbf6f1"
      },
      "execution_count": 8,
      "outputs": [
        {
          "output_type": "stream",
          "name": "stdout",
          "text": [
            "['Olá', ',', 'tudo', 'bem', '?']\n"
          ]
        }
      ]
    },
    {
      "cell_type": "code",
      "source": [
        "len(palavras_separadas)"
      ],
      "metadata": {
        "colab": {
          "base_uri": "https://localhost:8080/"
        },
        "id": "ueNenU39-1fQ",
        "outputId": "341cc670-b9a5-4059-9eb0-5ad7a83b39d3"
      },
      "execution_count": 9,
      "outputs": [
        {
          "output_type": "execute_result",
          "data": {
            "text/plain": [
              "5"
            ]
          },
          "metadata": {},
          "execution_count": 9
        }
      ]
    },
    {
      "cell_type": "code",
      "source": [
        "'palavras'.isalpha()"
      ],
      "metadata": {
        "colab": {
          "base_uri": "https://localhost:8080/"
        },
        "id": "VzI0i9Kn_pza",
        "outputId": "e7a2f7a1-9450-4725-be65-50f235115754"
      },
      "execution_count": 10,
      "outputs": [
        {
          "output_type": "execute_result",
          "data": {
            "text/plain": [
              "True"
            ]
          },
          "metadata": {},
          "execution_count": 10
        }
      ]
    },
    {
      "cell_type": "code",
      "source": [
        "def separa_palavras(lista_tokens):\n",
        "  lista_palavras = []\n",
        "  for token in lista_tokens:\n",
        "    if token.isalpha():\n",
        "      lista_palavras.append(token)\n",
        "  return lista_palavras"
      ],
      "metadata": {
        "id": "VZbZORZu_N82"
      },
      "execution_count": 11,
      "outputs": []
    },
    {
      "cell_type": "code",
      "source": [
        "separa_palavras(palavras_separadas)"
      ],
      "metadata": {
        "colab": {
          "base_uri": "https://localhost:8080/"
        },
        "id": "ubum4jwfAGBp",
        "outputId": "3edaaed8-fbf2-4c24-d3c4-d991b277aa00"
      },
      "execution_count": 12,
      "outputs": [
        {
          "output_type": "execute_result",
          "data": {
            "text/plain": [
              "['Olá', 'tudo', 'bem']"
            ]
          },
          "metadata": {},
          "execution_count": 12
        }
      ]
    },
    {
      "cell_type": "code",
      "source": [
        "lista_tokens = nltk.tokenize.word_tokenize(artigos)\n",
        "lista_palavras = separa_palavras(lista_tokens)"
      ],
      "metadata": {
        "id": "YeYAcAa8AK16"
      },
      "execution_count": 13,
      "outputs": []
    },
    {
      "cell_type": "code",
      "source": [
        "print(f\"O número de palavras é {len(lista_palavras)}\")"
      ],
      "metadata": {
        "colab": {
          "base_uri": "https://localhost:8080/"
        },
        "id": "CHO1q1gdAxl5",
        "outputId": "5d1c780c-3257-47de-9331-83e10a9a712e"
      },
      "execution_count": 14,
      "outputs": [
        {
          "output_type": "stream",
          "name": "stdout",
          "text": [
            "O número de palavras é 403031\n"
          ]
        }
      ]
    },
    {
      "cell_type": "code",
      "source": [
        "print(lista_palavras[:5])"
      ],
      "metadata": {
        "colab": {
          "base_uri": "https://localhost:8080/"
        },
        "id": "PJUo0GaaCKPm",
        "outputId": "7cd2ce65-3be2-4146-9476-6d3278cf7ad6"
      },
      "execution_count": 15,
      "outputs": [
        {
          "output_type": "stream",
          "name": "stdout",
          "text": [
            "['imagem', 'Temos', 'a', 'seguinte', 'classe']\n"
          ]
        }
      ]
    },
    {
      "cell_type": "code",
      "source": [
        "def normalizacao(lista_palavras):\n",
        "  lista_normalizada = []\n",
        "  for palavra in lista_palavras:\n",
        "    lista_normalizada.append(palavra.lower())\n",
        "  return lista_normalizada"
      ],
      "metadata": {
        "id": "LlAyf19iDbse"
      },
      "execution_count": 16,
      "outputs": []
    },
    {
      "cell_type": "code",
      "source": [
        "lista_normalizada = normalizacao(lista_palavras)\n",
        "print(lista_normalizada[:5])"
      ],
      "metadata": {
        "colab": {
          "base_uri": "https://localhost:8080/"
        },
        "id": "SWX9BkoBESNG",
        "outputId": "24cb628a-9f94-41a3-8ea7-777bcbab8666"
      },
      "execution_count": 17,
      "outputs": [
        {
          "output_type": "stream",
          "name": "stdout",
          "text": [
            "['imagem', 'temos', 'a', 'seguinte', 'classe']\n"
          ]
        }
      ]
    },
    {
      "cell_type": "code",
      "source": [
        "len(set(lista_normalizada))"
      ],
      "metadata": {
        "colab": {
          "base_uri": "https://localhost:8080/"
        },
        "id": "RNlkR7vYEk4u",
        "outputId": "8e7ae05d-1a9a-48aa-c307-78d3419cd612"
      },
      "execution_count": 18,
      "outputs": [
        {
          "output_type": "execute_result",
          "data": {
            "text/plain": [
              "18464"
            ]
          },
          "metadata": {},
          "execution_count": 18
        }
      ]
    },
    {
      "cell_type": "code",
      "source": [
        "lista = 'lgica'\n",
        "(lista[:1],lista[1:])\n"
      ],
      "metadata": {
        "colab": {
          "base_uri": "https://localhost:8080/"
        },
        "id": "rMJC44QOdTwu",
        "outputId": "44767b71-970b-4066-8fff-c3e4ecdb4068"
      },
      "execution_count": 19,
      "outputs": [
        {
          "output_type": "execute_result",
          "data": {
            "text/plain": [
              "('l', 'gica')"
            ]
          },
          "metadata": {},
          "execution_count": 19
        }
      ]
    },
    {
      "cell_type": "code",
      "source": [
        "def insere_letras(fatias):\n",
        "    novas_palavras = []\n",
        "    letras = 'abcdefghijklmnopqrstuvwxyzàáâãèéêìíîòóôõùúûç'\n",
        "    for E, D in fatias:\n",
        "        for letra in letras:\n",
        "            novas_palavras.append(E + letra + D)\n",
        "    return novas_palavras"
      ],
      "metadata": {
        "id": "xOlIzcmFc9G7"
      },
      "execution_count": 20,
      "outputs": []
    },
    {
      "cell_type": "code",
      "source": [
        "def gerador_palavras(palavra):\n",
        "  fatias = []\n",
        "  for i in range(len(palavra)+1):\n",
        "    fatias.append((palavra[:i],palavra[i:]))\n",
        "  palavras_geradas = insere_letras(fatias)\n",
        "  return palavras_geradas\n"
      ],
      "metadata": {
        "id": "G7WgjNvCGJVD"
      },
      "execution_count": 21,
      "outputs": []
    },
    {
      "cell_type": "code",
      "source": [
        "palavra_exemplo = 'lgica'\n",
        "print(gerador_palavras(palavra_exemplo))\n"
      ],
      "metadata": {
        "colab": {
          "base_uri": "https://localhost:8080/"
        },
        "id": "gr0h8cN4kltH",
        "outputId": "d552bbfe-5768-4fc7-89f1-bc653ebd9305"
      },
      "execution_count": 22,
      "outputs": [
        {
          "output_type": "stream",
          "name": "stdout",
          "text": [
            "['algica', 'blgica', 'clgica', 'dlgica', 'elgica', 'flgica', 'glgica', 'hlgica', 'ilgica', 'jlgica', 'klgica', 'llgica', 'mlgica', 'nlgica', 'olgica', 'plgica', 'qlgica', 'rlgica', 'slgica', 'tlgica', 'ulgica', 'vlgica', 'wlgica', 'xlgica', 'ylgica', 'zlgica', 'àlgica', 'álgica', 'âlgica', 'ãlgica', 'èlgica', 'élgica', 'êlgica', 'ìlgica', 'ílgica', 'îlgica', 'òlgica', 'ólgica', 'ôlgica', 'õlgica', 'ùlgica', 'úlgica', 'ûlgica', 'çlgica', 'lagica', 'lbgica', 'lcgica', 'ldgica', 'legica', 'lfgica', 'lggica', 'lhgica', 'ligica', 'ljgica', 'lkgica', 'llgica', 'lmgica', 'lngica', 'logica', 'lpgica', 'lqgica', 'lrgica', 'lsgica', 'ltgica', 'lugica', 'lvgica', 'lwgica', 'lxgica', 'lygica', 'lzgica', 'làgica', 'lágica', 'lâgica', 'lãgica', 'lègica', 'légica', 'lêgica', 'lìgica', 'lígica', 'lîgica', 'lògica', 'lógica', 'lôgica', 'lõgica', 'lùgica', 'lúgica', 'lûgica', 'lçgica', 'lgaica', 'lgbica', 'lgcica', 'lgdica', 'lgeica', 'lgfica', 'lggica', 'lghica', 'lgiica', 'lgjica', 'lgkica', 'lglica', 'lgmica', 'lgnica', 'lgoica', 'lgpica', 'lgqica', 'lgrica', 'lgsica', 'lgtica', 'lguica', 'lgvica', 'lgwica', 'lgxica', 'lgyica', 'lgzica', 'lgàica', 'lgáica', 'lgâica', 'lgãica', 'lgèica', 'lgéica', 'lgêica', 'lgìica', 'lgíica', 'lgîica', 'lgòica', 'lgóica', 'lgôica', 'lgõica', 'lgùica', 'lgúica', 'lgûica', 'lgçica', 'lgiaca', 'lgibca', 'lgicca', 'lgidca', 'lgieca', 'lgifca', 'lgigca', 'lgihca', 'lgiica', 'lgijca', 'lgikca', 'lgilca', 'lgimca', 'lginca', 'lgioca', 'lgipca', 'lgiqca', 'lgirca', 'lgisca', 'lgitca', 'lgiuca', 'lgivca', 'lgiwca', 'lgixca', 'lgiyca', 'lgizca', 'lgiàca', 'lgiáca', 'lgiâca', 'lgiãca', 'lgièca', 'lgiéca', 'lgiêca', 'lgiìca', 'lgiíca', 'lgiîca', 'lgiòca', 'lgióca', 'lgiôca', 'lgiõca', 'lgiùca', 'lgiúca', 'lgiûca', 'lgiçca', 'lgicaa', 'lgicba', 'lgicca', 'lgicda', 'lgicea', 'lgicfa', 'lgicga', 'lgicha', 'lgicia', 'lgicja', 'lgicka', 'lgicla', 'lgicma', 'lgicna', 'lgicoa', 'lgicpa', 'lgicqa', 'lgicra', 'lgicsa', 'lgicta', 'lgicua', 'lgicva', 'lgicwa', 'lgicxa', 'lgicya', 'lgicza', 'lgicàa', 'lgicáa', 'lgicâa', 'lgicãa', 'lgicèa', 'lgicéa', 'lgicêa', 'lgicìa', 'lgicía', 'lgicîa', 'lgicòa', 'lgicóa', 'lgicôa', 'lgicõa', 'lgicùa', 'lgicúa', 'lgicûa', 'lgicça', 'lgicaa', 'lgicab', 'lgicac', 'lgicad', 'lgicae', 'lgicaf', 'lgicag', 'lgicah', 'lgicai', 'lgicaj', 'lgicak', 'lgical', 'lgicam', 'lgican', 'lgicao', 'lgicap', 'lgicaq', 'lgicar', 'lgicas', 'lgicat', 'lgicau', 'lgicav', 'lgicaw', 'lgicax', 'lgicay', 'lgicaz', 'lgicaà', 'lgicaá', 'lgicaâ', 'lgicaã', 'lgicaè', 'lgicaé', 'lgicaê', 'lgicaì', 'lgicaí', 'lgicaî', 'lgicaò', 'lgicaó', 'lgicaô', 'lgicaõ', 'lgicaù', 'lgicaú', 'lgicaû', 'lgicaç']\n"
          ]
        }
      ]
    },
    {
      "cell_type": "code",
      "source": [
        "frequencia = nltk.FreqDist(lista_normalizada)\n",
        "frequencia.most_common(10)"
      ],
      "metadata": {
        "colab": {
          "base_uri": "https://localhost:8080/"
        },
        "id": "gGB4iAJnC6xu",
        "outputId": "25219ada-678d-489f-8c8e-3858bd4886e1"
      },
      "execution_count": 23,
      "outputs": [
        {
          "output_type": "execute_result",
          "data": {
            "text/plain": [
              "[('de', 15502),\n",
              " ('o', 14056),\n",
              " ('que', 12230),\n",
              " ('a', 11099),\n",
              " ('e', 10501),\n",
              " ('para', 7710),\n",
              " ('um', 6367),\n",
              " ('é', 5899),\n",
              " ('uma', 5220),\n",
              " ('do', 5124)]"
            ]
          },
          "metadata": {},
          "execution_count": 23
        }
      ]
    },
    {
      "cell_type": "code",
      "source": [
        "frequencia[\"lógica\"]"
      ],
      "metadata": {
        "colab": {
          "base_uri": "https://localhost:8080/"
        },
        "id": "hDmOkEkKDk8D",
        "outputId": "7cd54616-a45b-4928-ef20-7988f1049315"
      },
      "execution_count": 24,
      "outputs": [
        {
          "output_type": "execute_result",
          "data": {
            "text/plain": [
              "96"
            ]
          },
          "metadata": {},
          "execution_count": 24
        }
      ]
    },
    {
      "cell_type": "code",
      "source": [
        "total_palavras = len(lista_normalizada)"
      ],
      "metadata": {
        "id": "JiNdckaVEESy"
      },
      "execution_count": 25,
      "outputs": []
    },
    {
      "cell_type": "code",
      "source": [
        "def probabilidade(palavra_gerada):\n",
        "  return frequencia[palavra_gerada]/total_palavras"
      ],
      "metadata": {
        "id": "054cYJkODq4s"
      },
      "execution_count": 26,
      "outputs": []
    },
    {
      "cell_type": "code",
      "source": [
        "def corretor(palavra):\n",
        "  palavras_geradas = gerador_palavras(palavra)\n",
        "  palavra_correta = max(palavras_geradas, key=probabilidade)\n",
        "  return palavra_correta"
      ],
      "metadata": {
        "id": "ro_DRVwsAtqL"
      },
      "execution_count": 27,
      "outputs": []
    },
    {
      "cell_type": "code",
      "source": [
        "corretor(palavra_exemplo)"
      ],
      "metadata": {
        "colab": {
          "base_uri": "https://localhost:8080/",
          "height": 35
        },
        "id": "NzezrLMwEoMi",
        "outputId": "867f2339-9d7b-42e0-b715-70bbb76356bf"
      },
      "execution_count": 28,
      "outputs": [
        {
          "output_type": "execute_result",
          "data": {
            "text/plain": [
              "'lógica'"
            ],
            "application/vnd.google.colaboratory.intrinsic+json": {
              "type": "string"
            }
          },
          "metadata": {},
          "execution_count": 28
        }
      ]
    },
    {
      "cell_type": "code",
      "source": [
        "def cria_dados_teste(nome_arquivo):\n",
        "  lista_palavras_teste = []\n",
        "  f = open(nome_arquivo, \"r\")\n",
        "  for linha in f:\n",
        "    correta, errada = linha.split()\n",
        "    lista_palavras_teste.append((correta,errada))\n",
        "  f.close()\n",
        "  return lista_palavras_teste"
      ],
      "metadata": {
        "id": "2Hwj7lIpQfTp"
      },
      "execution_count": 29,
      "outputs": []
    },
    {
      "cell_type": "code",
      "source": [
        "lista_teste = cria_dados_teste(\"palavras.txt\")\n",
        "lista_teste[:5]"
      ],
      "metadata": {
        "colab": {
          "base_uri": "https://localhost:8080/"
        },
        "id": "IAu_VBiwRe4c",
        "outputId": "10cebf8e-2658-49e3-c234-333518e31705"
      },
      "execution_count": 30,
      "outputs": [
        {
          "output_type": "execute_result",
          "data": {
            "text/plain": [
              "[('podemos', 'pyodemos'),\n",
              " ('esse', 'esje'),\n",
              " ('já', 'jrá'),\n",
              " ('nosso', 'nossov'),\n",
              " ('são', 'sãêo')]"
            ]
          },
          "metadata": {},
          "execution_count": 30
        }
      ]
    },
    {
      "cell_type": "code",
      "source": [
        "def avaliador(testes):\n",
        "  numero_palavras = len(testes)\n",
        "  acertos = 0\n",
        "  for correta, errada in testes:\n",
        "    palavra_corrigida = corretor(errada)\n",
        "    if palavra_corrigida == correta:\n",
        "      acertos += 1\n",
        "  taxa_acerto = round((acertos/numero_palavras) * 100,2)\n",
        "  print(\"Taxa de acerto de {} % de {} palavras\".format(taxa_acerto,numero_palavras))"
      ],
      "metadata": {
        "id": "O6znjFRWEq4I"
      },
      "execution_count": 31,
      "outputs": []
    },
    {
      "cell_type": "code",
      "source": [
        "avaliador(lista_teste)"
      ],
      "metadata": {
        "colab": {
          "base_uri": "https://localhost:8080/"
        },
        "id": "ovhEqPllW0kb",
        "outputId": "b41583bd-48c9-45d2-81c1-b2374a6dd85b"
      },
      "execution_count": 32,
      "outputs": [
        {
          "output_type": "stream",
          "name": "stdout",
          "text": [
            "Taxa de acerto de 1.08 % de 186 palavras\n"
          ]
        }
      ]
    },
    {
      "cell_type": "code",
      "source": [
        "def deletando_caracteres(fatias):\n",
        "  novas_palavras = []\n",
        "\n",
        "  for E, D in fatias:\n",
        "    novas_palavras.append(E + D[1:])\n",
        "  return novas_palavras"
      ],
      "metadata": {
        "id": "bfNQ11HzW3nL"
      },
      "execution_count": 33,
      "outputs": []
    },
    {
      "cell_type": "code",
      "source": [
        "def gerador_palavras(palavra):\n",
        "  fatias = []\n",
        "  for i in range(len(palavra)+1):\n",
        "    fatias.append((palavra[:i],palavra[i:]))\n",
        "  palavras_geradas = insere_letras(fatias)\n",
        "  palavras_geradas += deletando_caracteres(fatias)\n",
        "  return palavras_geradas"
      ],
      "metadata": {
        "id": "XKimaVBzW0I8"
      },
      "execution_count": 34,
      "outputs": []
    },
    {
      "cell_type": "code",
      "source": [
        "print(gerador_palavras(\"lóigica\"))"
      ],
      "metadata": {
        "colab": {
          "base_uri": "https://localhost:8080/"
        },
        "id": "xyuAWiZ4Xc3x",
        "outputId": "e77b48cc-2f60-4e03-8f0d-f9205bdbb69f"
      },
      "execution_count": 35,
      "outputs": [
        {
          "output_type": "stream",
          "name": "stdout",
          "text": [
            "['alóigica', 'blóigica', 'clóigica', 'dlóigica', 'elóigica', 'flóigica', 'glóigica', 'hlóigica', 'ilóigica', 'jlóigica', 'klóigica', 'llóigica', 'mlóigica', 'nlóigica', 'olóigica', 'plóigica', 'qlóigica', 'rlóigica', 'slóigica', 'tlóigica', 'ulóigica', 'vlóigica', 'wlóigica', 'xlóigica', 'ylóigica', 'zlóigica', 'àlóigica', 'álóigica', 'âlóigica', 'ãlóigica', 'èlóigica', 'élóigica', 'êlóigica', 'ìlóigica', 'ílóigica', 'îlóigica', 'òlóigica', 'ólóigica', 'ôlóigica', 'õlóigica', 'ùlóigica', 'úlóigica', 'ûlóigica', 'çlóigica', 'laóigica', 'lbóigica', 'lcóigica', 'ldóigica', 'leóigica', 'lfóigica', 'lgóigica', 'lhóigica', 'lióigica', 'ljóigica', 'lkóigica', 'llóigica', 'lmóigica', 'lnóigica', 'loóigica', 'lpóigica', 'lqóigica', 'lróigica', 'lsóigica', 'ltóigica', 'luóigica', 'lvóigica', 'lwóigica', 'lxóigica', 'lyóigica', 'lzóigica', 'làóigica', 'láóigica', 'lâóigica', 'lãóigica', 'lèóigica', 'léóigica', 'lêóigica', 'lìóigica', 'líóigica', 'lîóigica', 'lòóigica', 'lóóigica', 'lôóigica', 'lõóigica', 'lùóigica', 'lúóigica', 'lûóigica', 'lçóigica', 'lóaigica', 'lóbigica', 'lócigica', 'lódigica', 'lóeigica', 'lófigica', 'lógigica', 'lóhigica', 'lóiigica', 'lójigica', 'lókigica', 'lóligica', 'lómigica', 'lónigica', 'lóoigica', 'lópigica', 'lóqigica', 'lórigica', 'lósigica', 'lótigica', 'lóuigica', 'lóvigica', 'lówigica', 'lóxigica', 'lóyigica', 'lózigica', 'lóàigica', 'lóáigica', 'lóâigica', 'lóãigica', 'lóèigica', 'lóéigica', 'lóêigica', 'lóìigica', 'lóíigica', 'lóîigica', 'lóòigica', 'lóóigica', 'lóôigica', 'lóõigica', 'lóùigica', 'lóúigica', 'lóûigica', 'lóçigica', 'lóiagica', 'lóibgica', 'lóicgica', 'lóidgica', 'lóiegica', 'lóifgica', 'lóiggica', 'lóihgica', 'lóiigica', 'lóijgica', 'lóikgica', 'lóilgica', 'lóimgica', 'lóingica', 'lóiogica', 'lóipgica', 'lóiqgica', 'lóirgica', 'lóisgica', 'lóitgica', 'lóiugica', 'lóivgica', 'lóiwgica', 'lóixgica', 'lóiygica', 'lóizgica', 'lóiàgica', 'lóiágica', 'lóiâgica', 'lóiãgica', 'lóiègica', 'lóiégica', 'lóiêgica', 'lóiìgica', 'lóiígica', 'lóiîgica', 'lóiògica', 'lóiógica', 'lóiôgica', 'lóiõgica', 'lóiùgica', 'lóiúgica', 'lóiûgica', 'lóiçgica', 'lóigaica', 'lóigbica', 'lóigcica', 'lóigdica', 'lóigeica', 'lóigfica', 'lóiggica', 'lóighica', 'lóigiica', 'lóigjica', 'lóigkica', 'lóiglica', 'lóigmica', 'lóignica', 'lóigoica', 'lóigpica', 'lóigqica', 'lóigrica', 'lóigsica', 'lóigtica', 'lóiguica', 'lóigvica', 'lóigwica', 'lóigxica', 'lóigyica', 'lóigzica', 'lóigàica', 'lóigáica', 'lóigâica', 'lóigãica', 'lóigèica', 'lóigéica', 'lóigêica', 'lóigìica', 'lóigíica', 'lóigîica', 'lóigòica', 'lóigóica', 'lóigôica', 'lóigõica', 'lóigùica', 'lóigúica', 'lóigûica', 'lóigçica', 'lóigiaca', 'lóigibca', 'lóigicca', 'lóigidca', 'lóigieca', 'lóigifca', 'lóigigca', 'lóigihca', 'lóigiica', 'lóigijca', 'lóigikca', 'lóigilca', 'lóigimca', 'lóiginca', 'lóigioca', 'lóigipca', 'lóigiqca', 'lóigirca', 'lóigisca', 'lóigitca', 'lóigiuca', 'lóigivca', 'lóigiwca', 'lóigixca', 'lóigiyca', 'lóigizca', 'lóigiàca', 'lóigiáca', 'lóigiâca', 'lóigiãca', 'lóigièca', 'lóigiéca', 'lóigiêca', 'lóigiìca', 'lóigiíca', 'lóigiîca', 'lóigiòca', 'lóigióca', 'lóigiôca', 'lóigiõca', 'lóigiùca', 'lóigiúca', 'lóigiûca', 'lóigiçca', 'lóigicaa', 'lóigicba', 'lóigicca', 'lóigicda', 'lóigicea', 'lóigicfa', 'lóigicga', 'lóigicha', 'lóigicia', 'lóigicja', 'lóigicka', 'lóigicla', 'lóigicma', 'lóigicna', 'lóigicoa', 'lóigicpa', 'lóigicqa', 'lóigicra', 'lóigicsa', 'lóigicta', 'lóigicua', 'lóigicva', 'lóigicwa', 'lóigicxa', 'lóigicya', 'lóigicza', 'lóigicàa', 'lóigicáa', 'lóigicâa', 'lóigicãa', 'lóigicèa', 'lóigicéa', 'lóigicêa', 'lóigicìa', 'lóigicía', 'lóigicîa', 'lóigicòa', 'lóigicóa', 'lóigicôa', 'lóigicõa', 'lóigicùa', 'lóigicúa', 'lóigicûa', 'lóigicça', 'lóigicaa', 'lóigicab', 'lóigicac', 'lóigicad', 'lóigicae', 'lóigicaf', 'lóigicag', 'lóigicah', 'lóigicai', 'lóigicaj', 'lóigicak', 'lóigical', 'lóigicam', 'lóigican', 'lóigicao', 'lóigicap', 'lóigicaq', 'lóigicar', 'lóigicas', 'lóigicat', 'lóigicau', 'lóigicav', 'lóigicaw', 'lóigicax', 'lóigicay', 'lóigicaz', 'lóigicaà', 'lóigicaá', 'lóigicaâ', 'lóigicaã', 'lóigicaè', 'lóigicaé', 'lóigicaê', 'lóigicaì', 'lóigicaí', 'lóigicaî', 'lóigicaò', 'lóigicaó', 'lóigicaô', 'lóigicaõ', 'lóigicaù', 'lóigicaú', 'lóigicaû', 'lóigicaç', 'óigica', 'ligica', 'lógica', 'lóiica', 'lóigca', 'lóigia', 'lóigic', 'lóigica']\n"
          ]
        }
      ]
    },
    {
      "cell_type": "code",
      "source": [
        "avaliador(lista_teste)"
      ],
      "metadata": {
        "colab": {
          "base_uri": "https://localhost:8080/"
        },
        "id": "zi1RBE58Xigs",
        "outputId": "05c750db-5958-441f-9a7b-1a07931723cf"
      },
      "execution_count": 36,
      "outputs": [
        {
          "output_type": "stream",
          "name": "stdout",
          "text": [
            "Taxa de acerto de 41.4 % de 186 palavras\n"
          ]
        }
      ]
    },
    {
      "cell_type": "code",
      "source": [
        "def insere_letras(fatias):\n",
        "    novas_palavras = []\n",
        "    letras = 'abcdefghijklmnopqrstuvwxyzàáâãèéêìíîòóôõùúûç'\n",
        "    for E, D in fatias:\n",
        "        for letra in letras:\n",
        "            novas_palavras.append(E + letra + D)\n",
        "    return novas_palavras\n",
        "\n",
        "def deletando_caracteres(fatias):\n",
        "  novas_palavras = []\n",
        "\n",
        "  for E, D in fatias:\n",
        "    novas_palavras.append(E + D[1:])\n",
        "  return novas_palavras\n",
        "\n",
        "def troca_letra(fatias):\n",
        "    novas_palavras = []\n",
        "    letras = 'abcdefghijklmnopqrstuvwxyzàáâãèéêìíîòóôõùúûç'\n",
        "    for E, D in fatias:\n",
        "        for letra in letras:\n",
        "            novas_palavras.append(E + letra + D[1:])\n",
        "    return novas_palavras\n",
        "\n",
        "def gerador_palavras(palavra):\n",
        "  fatias = []\n",
        "  for i in range(len(palavra)+1):\n",
        "    fatias.append((palavra[:i],palavra[i:]))\n",
        "  palavras_geradas = insere_letras(fatias)\n",
        "  palavras_geradas += deletando_caracteres(fatias)\n",
        "  palavras_geradas += troca_letra(fatias)\n",
        "  return palavras_geradas"
      ],
      "metadata": {
        "id": "UjQ_G8IgX4PC"
      },
      "execution_count": 37,
      "outputs": []
    },
    {
      "cell_type": "code",
      "source": [
        "print(gerador_palavras(\"lígica\"))"
      ],
      "metadata": {
        "colab": {
          "base_uri": "https://localhost:8080/"
        },
        "id": "Cw1roOYDms2-",
        "outputId": "b65648df-e3fc-4dad-ad53-5aa82bd41574"
      },
      "execution_count": 38,
      "outputs": [
        {
          "output_type": "stream",
          "name": "stdout",
          "text": [
            "['alígica', 'blígica', 'clígica', 'dlígica', 'elígica', 'flígica', 'glígica', 'hlígica', 'ilígica', 'jlígica', 'klígica', 'llígica', 'mlígica', 'nlígica', 'olígica', 'plígica', 'qlígica', 'rlígica', 'slígica', 'tlígica', 'ulígica', 'vlígica', 'wlígica', 'xlígica', 'ylígica', 'zlígica', 'àlígica', 'álígica', 'âlígica', 'ãlígica', 'èlígica', 'élígica', 'êlígica', 'ìlígica', 'ílígica', 'îlígica', 'òlígica', 'ólígica', 'ôlígica', 'õlígica', 'ùlígica', 'úlígica', 'ûlígica', 'çlígica', 'laígica', 'lbígica', 'lcígica', 'ldígica', 'leígica', 'lfígica', 'lgígica', 'lhígica', 'liígica', 'ljígica', 'lkígica', 'llígica', 'lmígica', 'lnígica', 'loígica', 'lpígica', 'lqígica', 'lrígica', 'lsígica', 'ltígica', 'luígica', 'lvígica', 'lwígica', 'lxígica', 'lyígica', 'lzígica', 'làígica', 'láígica', 'lâígica', 'lãígica', 'lèígica', 'léígica', 'lêígica', 'lìígica', 'líígica', 'lîígica', 'lòígica', 'lóígica', 'lôígica', 'lõígica', 'lùígica', 'lúígica', 'lûígica', 'lçígica', 'líagica', 'líbgica', 'lícgica', 'lídgica', 'líegica', 'lífgica', 'líggica', 'líhgica', 'líigica', 'líjgica', 'líkgica', 'lílgica', 'límgica', 'língica', 'líogica', 'lípgica', 'líqgica', 'lírgica', 'lísgica', 'lítgica', 'líugica', 'lívgica', 'líwgica', 'líxgica', 'líygica', 'lízgica', 'líàgica', 'líágica', 'líâgica', 'líãgica', 'líègica', 'líégica', 'líêgica', 'líìgica', 'líígica', 'líîgica', 'líògica', 'líógica', 'líôgica', 'líõgica', 'líùgica', 'líúgica', 'líûgica', 'líçgica', 'lígaica', 'lígbica', 'lígcica', 'lígdica', 'lígeica', 'lígfica', 'líggica', 'líghica', 'lígiica', 'lígjica', 'lígkica', 'líglica', 'lígmica', 'lígnica', 'lígoica', 'lígpica', 'lígqica', 'lígrica', 'lígsica', 'lígtica', 'líguica', 'lígvica', 'lígwica', 'lígxica', 'lígyica', 'lígzica', 'lígàica', 'lígáica', 'lígâica', 'lígãica', 'lígèica', 'lígéica', 'lígêica', 'lígìica', 'lígíica', 'lígîica', 'lígòica', 'lígóica', 'lígôica', 'lígõica', 'lígùica', 'lígúica', 'lígûica', 'lígçica', 'lígiaca', 'lígibca', 'lígicca', 'lígidca', 'lígieca', 'lígifca', 'lígigca', 'lígihca', 'lígiica', 'lígijca', 'lígikca', 'lígilca', 'lígimca', 'líginca', 'lígioca', 'lígipca', 'lígiqca', 'lígirca', 'lígisca', 'lígitca', 'lígiuca', 'lígivca', 'lígiwca', 'lígixca', 'lígiyca', 'lígizca', 'lígiàca', 'lígiáca', 'lígiâca', 'lígiãca', 'lígièca', 'lígiéca', 'lígiêca', 'lígiìca', 'lígiíca', 'lígiîca', 'lígiòca', 'lígióca', 'lígiôca', 'lígiõca', 'lígiùca', 'lígiúca', 'lígiûca', 'lígiçca', 'lígicaa', 'lígicba', 'lígicca', 'lígicda', 'lígicea', 'lígicfa', 'lígicga', 'lígicha', 'lígicia', 'lígicja', 'lígicka', 'lígicla', 'lígicma', 'lígicna', 'lígicoa', 'lígicpa', 'lígicqa', 'lígicra', 'lígicsa', 'lígicta', 'lígicua', 'lígicva', 'lígicwa', 'lígicxa', 'lígicya', 'lígicza', 'lígicàa', 'lígicáa', 'lígicâa', 'lígicãa', 'lígicèa', 'lígicéa', 'lígicêa', 'lígicìa', 'lígicía', 'lígicîa', 'lígicòa', 'lígicóa', 'lígicôa', 'lígicõa', 'lígicùa', 'lígicúa', 'lígicûa', 'lígicça', 'lígicaa', 'lígicab', 'lígicac', 'lígicad', 'lígicae', 'lígicaf', 'lígicag', 'lígicah', 'lígicai', 'lígicaj', 'lígicak', 'lígical', 'lígicam', 'lígican', 'lígicao', 'lígicap', 'lígicaq', 'lígicar', 'lígicas', 'lígicat', 'lígicau', 'lígicav', 'lígicaw', 'lígicax', 'lígicay', 'lígicaz', 'lígicaà', 'lígicaá', 'lígicaâ', 'lígicaã', 'lígicaè', 'lígicaé', 'lígicaê', 'lígicaì', 'lígicaí', 'lígicaî', 'lígicaò', 'lígicaó', 'lígicaô', 'lígicaõ', 'lígicaù', 'lígicaú', 'lígicaû', 'lígicaç', 'ígica', 'lgica', 'líica', 'lígca', 'lígia', 'lígic', 'lígica', 'aígica', 'bígica', 'cígica', 'dígica', 'eígica', 'fígica', 'gígica', 'hígica', 'iígica', 'jígica', 'kígica', 'lígica', 'mígica', 'nígica', 'oígica', 'pígica', 'qígica', 'rígica', 'sígica', 'tígica', 'uígica', 'vígica', 'wígica', 'xígica', 'yígica', 'zígica', 'àígica', 'áígica', 'âígica', 'ãígica', 'èígica', 'éígica', 'êígica', 'ìígica', 'íígica', 'îígica', 'òígica', 'óígica', 'ôígica', 'õígica', 'ùígica', 'úígica', 'ûígica', 'çígica', 'lagica', 'lbgica', 'lcgica', 'ldgica', 'legica', 'lfgica', 'lggica', 'lhgica', 'ligica', 'ljgica', 'lkgica', 'llgica', 'lmgica', 'lngica', 'logica', 'lpgica', 'lqgica', 'lrgica', 'lsgica', 'ltgica', 'lugica', 'lvgica', 'lwgica', 'lxgica', 'lygica', 'lzgica', 'làgica', 'lágica', 'lâgica', 'lãgica', 'lègica', 'légica', 'lêgica', 'lìgica', 'lígica', 'lîgica', 'lògica', 'lógica', 'lôgica', 'lõgica', 'lùgica', 'lúgica', 'lûgica', 'lçgica', 'líaica', 'líbica', 'lícica', 'lídica', 'líeica', 'lífica', 'lígica', 'líhica', 'líiica', 'líjica', 'líkica', 'lílica', 'límica', 'línica', 'líoica', 'lípica', 'líqica', 'lírica', 'lísica', 'lítica', 'líuica', 'lívica', 'líwica', 'líxica', 'líyica', 'lízica', 'líàica', 'líáica', 'líâica', 'líãica', 'líèica', 'líéica', 'líêica', 'líìica', 'lííica', 'líîica', 'líòica', 'líóica', 'líôica', 'líõica', 'líùica', 'líúica', 'líûica', 'líçica', 'lígaca', 'lígbca', 'lígcca', 'lígdca', 'lígeca', 'lígfca', 'líggca', 'líghca', 'lígica', 'lígjca', 'lígkca', 'líglca', 'lígmca', 'lígnca', 'lígoca', 'lígpca', 'lígqca', 'lígrca', 'lígsca', 'lígtca', 'líguca', 'lígvca', 'lígwca', 'lígxca', 'lígyca', 'lígzca', 'lígàca', 'lígáca', 'lígâca', 'lígãca', 'lígèca', 'lígéca', 'lígêca', 'lígìca', 'lígíca', 'lígîca', 'lígòca', 'lígóca', 'lígôca', 'lígõca', 'lígùca', 'lígúca', 'lígûca', 'lígçca', 'lígiaa', 'lígiba', 'lígica', 'lígida', 'lígiea', 'lígifa', 'lígiga', 'lígiha', 'lígiia', 'lígija', 'lígika', 'lígila', 'lígima', 'lígina', 'lígioa', 'lígipa', 'lígiqa', 'lígira', 'lígisa', 'lígita', 'lígiua', 'lígiva', 'lígiwa', 'lígixa', 'lígiya', 'lígiza', 'lígiàa', 'lígiáa', 'lígiâa', 'lígiãa', 'lígièa', 'lígiéa', 'lígiêa', 'lígiìa', 'lígiía', 'lígiîa', 'lígiòa', 'lígióa', 'lígiôa', 'lígiõa', 'lígiùa', 'lígiúa', 'lígiûa', 'lígiça', 'lígica', 'lígicb', 'lígicc', 'lígicd', 'lígice', 'lígicf', 'lígicg', 'lígich', 'lígici', 'lígicj', 'lígick', 'lígicl', 'lígicm', 'lígicn', 'lígico', 'lígicp', 'lígicq', 'lígicr', 'lígics', 'lígict', 'lígicu', 'lígicv', 'lígicw', 'lígicx', 'lígicy', 'lígicz', 'lígicà', 'lígicá', 'lígicâ', 'lígicã', 'lígicè', 'lígicé', 'lígicê', 'lígicì', 'lígicí', 'lígicî', 'lígicò', 'lígicó', 'lígicô', 'lígicõ', 'lígicù', 'lígicú', 'lígicû', 'lígicç', 'lígicaa', 'lígicab', 'lígicac', 'lígicad', 'lígicae', 'lígicaf', 'lígicag', 'lígicah', 'lígicai', 'lígicaj', 'lígicak', 'lígical', 'lígicam', 'lígican', 'lígicao', 'lígicap', 'lígicaq', 'lígicar', 'lígicas', 'lígicat', 'lígicau', 'lígicav', 'lígicaw', 'lígicax', 'lígicay', 'lígicaz', 'lígicaà', 'lígicaá', 'lígicaâ', 'lígicaã', 'lígicaè', 'lígicaé', 'lígicaê', 'lígicaì', 'lígicaí', 'lígicaî', 'lígicaò', 'lígicaó', 'lígicaô', 'lígicaõ', 'lígicaù', 'lígicaú', 'lígicaû', 'lígicaç']\n"
          ]
        }
      ]
    },
    {
      "cell_type": "code",
      "source": [
        "avaliador(lista_teste)"
      ],
      "metadata": {
        "colab": {
          "base_uri": "https://localhost:8080/"
        },
        "id": "33XovCBem4sf",
        "outputId": "058d90e5-699b-4924-8550-8c2f65c52593"
      },
      "execution_count": 39,
      "outputs": [
        {
          "output_type": "stream",
          "name": "stdout",
          "text": [
            "Taxa de acerto de 76.34 % de 186 palavras\n"
          ]
        }
      ]
    },
    {
      "cell_type": "code",
      "source": [
        "def insere_letras(fatias):\n",
        "  novas_palavras = []\n",
        "  letras = 'abcdefghijklmnopqrstuvwxyzàáâãèéêìíîòóôõùúûç'\n",
        "  for E, D in fatias:\n",
        "      for letra in letras:\n",
        "          novas_palavras.append(E + letra + D)\n",
        "  return novas_palavras\n",
        "\n",
        "def deletando_caracteres(fatias):\n",
        "  novas_palavras = []\n",
        "  for E, D in fatias:\n",
        "    novas_palavras.append(E + D[1:])\n",
        "  return novas_palavras\n",
        "\n",
        "def troca_letra(fatias):\n",
        "  novas_palavras = []\n",
        "  letras = 'abcdefghijklmnopqrstuvwxyzàáâãèéêìíîòóôõùúûç'\n",
        "  for E, D in fatias:\n",
        "      for letra in letras:\n",
        "            novas_palavras.append(E + letra + D[1:])\n",
        "  return novas_palavras\n",
        "\n",
        "def inverte_letra(fatias):\n",
        "  novas_palavras = []\n",
        "  for E, D in fatias:\n",
        "    if len(D) > 1:\n",
        "      novas_palavras.append(E + D[1] + D[0] + D[2:])\n",
        "  return novas_palavras\n",
        "\n",
        "def gerador_palavras(palavra):\n",
        "  fatias = []\n",
        "  for i in range(len(palavra)+1):\n",
        "    fatias.append((palavra[:i],palavra[i:]))\n",
        "  palavras_geradas = insere_letras(fatias)\n",
        "  palavras_geradas += deletando_caracteres(fatias)\n",
        "  palavras_geradas += troca_letra(fatias)\n",
        "  palavras_geradas += inverte_letra(fatias)\n",
        "  return palavras_geradas"
      ],
      "metadata": {
        "id": "QF1UcPbqnfvG"
      },
      "execution_count": 40,
      "outputs": []
    },
    {
      "cell_type": "code",
      "source": [
        "print(gerador_palavras(\"lógiac\"))"
      ],
      "metadata": {
        "colab": {
          "base_uri": "https://localhost:8080/"
        },
        "id": "ZEgQb7qbpqJ0",
        "outputId": "6577860c-36f6-4394-d67a-970933dadc53"
      },
      "execution_count": 42,
      "outputs": [
        {
          "output_type": "stream",
          "name": "stdout",
          "text": [
            "['alógiac', 'blógiac', 'clógiac', 'dlógiac', 'elógiac', 'flógiac', 'glógiac', 'hlógiac', 'ilógiac', 'jlógiac', 'klógiac', 'llógiac', 'mlógiac', 'nlógiac', 'ológiac', 'plógiac', 'qlógiac', 'rlógiac', 'slógiac', 'tlógiac', 'ulógiac', 'vlógiac', 'wlógiac', 'xlógiac', 'ylógiac', 'zlógiac', 'àlógiac', 'álógiac', 'âlógiac', 'ãlógiac', 'èlógiac', 'élógiac', 'êlógiac', 'ìlógiac', 'ílógiac', 'îlógiac', 'òlógiac', 'ólógiac', 'ôlógiac', 'õlógiac', 'ùlógiac', 'úlógiac', 'ûlógiac', 'çlógiac', 'laógiac', 'lbógiac', 'lcógiac', 'ldógiac', 'leógiac', 'lfógiac', 'lgógiac', 'lhógiac', 'liógiac', 'ljógiac', 'lkógiac', 'llógiac', 'lmógiac', 'lnógiac', 'loógiac', 'lpógiac', 'lqógiac', 'lrógiac', 'lsógiac', 'ltógiac', 'luógiac', 'lvógiac', 'lwógiac', 'lxógiac', 'lyógiac', 'lzógiac', 'làógiac', 'láógiac', 'lâógiac', 'lãógiac', 'lèógiac', 'léógiac', 'lêógiac', 'lìógiac', 'líógiac', 'lîógiac', 'lòógiac', 'lóógiac', 'lôógiac', 'lõógiac', 'lùógiac', 'lúógiac', 'lûógiac', 'lçógiac', 'lóagiac', 'lóbgiac', 'lócgiac', 'lódgiac', 'lóegiac', 'lófgiac', 'lóggiac', 'lóhgiac', 'lóigiac', 'lójgiac', 'lókgiac', 'lólgiac', 'lómgiac', 'lóngiac', 'lóogiac', 'lópgiac', 'lóqgiac', 'lórgiac', 'lósgiac', 'lótgiac', 'lóugiac', 'lóvgiac', 'lówgiac', 'lóxgiac', 'lóygiac', 'lózgiac', 'lóàgiac', 'lóágiac', 'lóâgiac', 'lóãgiac', 'lóègiac', 'lóégiac', 'lóêgiac', 'lóìgiac', 'lóígiac', 'lóîgiac', 'lóògiac', 'lóógiac', 'lóôgiac', 'lóõgiac', 'lóùgiac', 'lóúgiac', 'lóûgiac', 'lóçgiac', 'lógaiac', 'lógbiac', 'lógciac', 'lógdiac', 'lógeiac', 'lógfiac', 'lóggiac', 'lóghiac', 'lógiiac', 'lógjiac', 'lógkiac', 'lógliac', 'lógmiac', 'lógniac', 'lógoiac', 'lógpiac', 'lógqiac', 'lógriac', 'lógsiac', 'lógtiac', 'lóguiac', 'lógviac', 'lógwiac', 'lógxiac', 'lógyiac', 'lógziac', 'lógàiac', 'lógáiac', 'lógâiac', 'lógãiac', 'lógèiac', 'lógéiac', 'lógêiac', 'lógìiac', 'lógíiac', 'lógîiac', 'lógòiac', 'lógóiac', 'lógôiac', 'lógõiac', 'lógùiac', 'lógúiac', 'lógûiac', 'lógçiac', 'lógiaac', 'lógibac', 'lógicac', 'lógidac', 'lógieac', 'lógifac', 'lógigac', 'lógihac', 'lógiiac', 'lógijac', 'lógikac', 'lógilac', 'lógimac', 'lóginac', 'lógioac', 'lógipac', 'lógiqac', 'lógirac', 'lógisac', 'lógitac', 'lógiuac', 'lógivac', 'lógiwac', 'lógixac', 'lógiyac', 'lógizac', 'lógiàac', 'lógiáac', 'lógiâac', 'lógiãac', 'lógièac', 'lógiéac', 'lógiêac', 'lógiìac', 'lógiíac', 'lógiîac', 'lógiòac', 'lógióac', 'lógiôac', 'lógiõac', 'lógiùac', 'lógiúac', 'lógiûac', 'lógiçac', 'lógiaac', 'lógiabc', 'lógiacc', 'lógiadc', 'lógiaec', 'lógiafc', 'lógiagc', 'lógiahc', 'lógiaic', 'lógiajc', 'lógiakc', 'lógialc', 'lógiamc', 'lógianc', 'lógiaoc', 'lógiapc', 'lógiaqc', 'lógiarc', 'lógiasc', 'lógiatc', 'lógiauc', 'lógiavc', 'lógiawc', 'lógiaxc', 'lógiayc', 'lógiazc', 'lógiaàc', 'lógiaác', 'lógiaâc', 'lógiaãc', 'lógiaèc', 'lógiaéc', 'lógiaêc', 'lógiaìc', 'lógiaíc', 'lógiaîc', 'lógiaòc', 'lógiaóc', 'lógiaôc', 'lógiaõc', 'lógiaùc', 'lógiaúc', 'lógiaûc', 'lógiaçc', 'lógiaca', 'lógiacb', 'lógiacc', 'lógiacd', 'lógiace', 'lógiacf', 'lógiacg', 'lógiach', 'lógiaci', 'lógiacj', 'lógiack', 'lógiacl', 'lógiacm', 'lógiacn', 'lógiaco', 'lógiacp', 'lógiacq', 'lógiacr', 'lógiacs', 'lógiact', 'lógiacu', 'lógiacv', 'lógiacw', 'lógiacx', 'lógiacy', 'lógiacz', 'lógiacà', 'lógiacá', 'lógiacâ', 'lógiacã', 'lógiacè', 'lógiacé', 'lógiacê', 'lógiacì', 'lógiací', 'lógiacî', 'lógiacò', 'lógiacó', 'lógiacô', 'lógiacõ', 'lógiacù', 'lógiacú', 'lógiacû', 'lógiacç', 'ógiac', 'lgiac', 'lóiac', 'lógac', 'lógic', 'lógia', 'lógiac', 'aógiac', 'bógiac', 'cógiac', 'dógiac', 'eógiac', 'fógiac', 'gógiac', 'hógiac', 'iógiac', 'jógiac', 'kógiac', 'lógiac', 'mógiac', 'nógiac', 'oógiac', 'pógiac', 'qógiac', 'rógiac', 'sógiac', 'tógiac', 'uógiac', 'vógiac', 'wógiac', 'xógiac', 'yógiac', 'zógiac', 'àógiac', 'áógiac', 'âógiac', 'ãógiac', 'èógiac', 'éógiac', 'êógiac', 'ìógiac', 'íógiac', 'îógiac', 'òógiac', 'óógiac', 'ôógiac', 'õógiac', 'ùógiac', 'úógiac', 'ûógiac', 'çógiac', 'lagiac', 'lbgiac', 'lcgiac', 'ldgiac', 'legiac', 'lfgiac', 'lggiac', 'lhgiac', 'ligiac', 'ljgiac', 'lkgiac', 'llgiac', 'lmgiac', 'lngiac', 'logiac', 'lpgiac', 'lqgiac', 'lrgiac', 'lsgiac', 'ltgiac', 'lugiac', 'lvgiac', 'lwgiac', 'lxgiac', 'lygiac', 'lzgiac', 'làgiac', 'lágiac', 'lâgiac', 'lãgiac', 'lègiac', 'légiac', 'lêgiac', 'lìgiac', 'lígiac', 'lîgiac', 'lògiac', 'lógiac', 'lôgiac', 'lõgiac', 'lùgiac', 'lúgiac', 'lûgiac', 'lçgiac', 'lóaiac', 'lóbiac', 'lóciac', 'lódiac', 'lóeiac', 'lófiac', 'lógiac', 'lóhiac', 'lóiiac', 'lójiac', 'lókiac', 'lóliac', 'lómiac', 'lóniac', 'lóoiac', 'lópiac', 'lóqiac', 'lóriac', 'lósiac', 'lótiac', 'lóuiac', 'lóviac', 'lówiac', 'lóxiac', 'lóyiac', 'lóziac', 'lóàiac', 'lóáiac', 'lóâiac', 'lóãiac', 'lóèiac', 'lóéiac', 'lóêiac', 'lóìiac', 'lóíiac', 'lóîiac', 'lóòiac', 'lóóiac', 'lóôiac', 'lóõiac', 'lóùiac', 'lóúiac', 'lóûiac', 'lóçiac', 'lógaac', 'lógbac', 'lógcac', 'lógdac', 'lógeac', 'lógfac', 'lóggac', 'lóghac', 'lógiac', 'lógjac', 'lógkac', 'lóglac', 'lógmac', 'lógnac', 'lógoac', 'lógpac', 'lógqac', 'lógrac', 'lógsac', 'lógtac', 'lóguac', 'lógvac', 'lógwac', 'lógxac', 'lógyac', 'lógzac', 'lógàac', 'lógáac', 'lógâac', 'lógãac', 'lógèac', 'lógéac', 'lógêac', 'lógìac', 'lógíac', 'lógîac', 'lógòac', 'lógóac', 'lógôac', 'lógõac', 'lógùac', 'lógúac', 'lógûac', 'lógçac', 'lógiac', 'lógibc', 'lógicc', 'lógidc', 'lógiec', 'lógifc', 'lógigc', 'lógihc', 'lógiic', 'lógijc', 'lógikc', 'lógilc', 'lógimc', 'lóginc', 'lógioc', 'lógipc', 'lógiqc', 'lógirc', 'lógisc', 'lógitc', 'lógiuc', 'lógivc', 'lógiwc', 'lógixc', 'lógiyc', 'lógizc', 'lógiàc', 'lógiác', 'lógiâc', 'lógiãc', 'lógièc', 'lógiéc', 'lógiêc', 'lógiìc', 'lógiíc', 'lógiîc', 'lógiòc', 'lógióc', 'lógiôc', 'lógiõc', 'lógiùc', 'lógiúc', 'lógiûc', 'lógiçc', 'lógiaa', 'lógiab', 'lógiac', 'lógiad', 'lógiae', 'lógiaf', 'lógiag', 'lógiah', 'lógiai', 'lógiaj', 'lógiak', 'lógial', 'lógiam', 'lógian', 'lógiao', 'lógiap', 'lógiaq', 'lógiar', 'lógias', 'lógiat', 'lógiau', 'lógiav', 'lógiaw', 'lógiax', 'lógiay', 'lógiaz', 'lógiaà', 'lógiaá', 'lógiaâ', 'lógiaã', 'lógiaè', 'lógiaé', 'lógiaê', 'lógiaì', 'lógiaí', 'lógiaî', 'lógiaò', 'lógiaó', 'lógiaô', 'lógiaõ', 'lógiaù', 'lógiaú', 'lógiaû', 'lógiaç', 'lógiaca', 'lógiacb', 'lógiacc', 'lógiacd', 'lógiace', 'lógiacf', 'lógiacg', 'lógiach', 'lógiaci', 'lógiacj', 'lógiack', 'lógiacl', 'lógiacm', 'lógiacn', 'lógiaco', 'lógiacp', 'lógiacq', 'lógiacr', 'lógiacs', 'lógiact', 'lógiacu', 'lógiacv', 'lógiacw', 'lógiacx', 'lógiacy', 'lógiacz', 'lógiacà', 'lógiacá', 'lógiacâ', 'lógiacã', 'lógiacè', 'lógiacé', 'lógiacê', 'lógiacì', 'lógiací', 'lógiacî', 'lógiacò', 'lógiacó', 'lógiacô', 'lógiacõ', 'lógiacù', 'lógiacú', 'lógiacû', 'lógiacç', 'ólgiac', 'lgóiac', 'lóigac', 'lógaic', 'lógica']\n"
          ]
        }
      ]
    },
    {
      "cell_type": "code",
      "source": [
        "avaliador(lista_teste)"
      ],
      "metadata": {
        "colab": {
          "base_uri": "https://localhost:8080/"
        },
        "id": "xmXWqgIlp7m8",
        "outputId": "edb996dc-9fb3-44b4-cecf-16289dd0fb60"
      },
      "execution_count": 43,
      "outputs": [
        {
          "output_type": "stream",
          "name": "stdout",
          "text": [
            "Taxa de acerto de 76.34 % de 186 palavras\n"
          ]
        }
      ]
    },
    {
      "cell_type": "code",
      "source": [
        "def avaliador(testes, vocabulario):\n",
        "  numero_palavras = len(testes)\n",
        "  acertos = 0\n",
        "  desconhecida = 0\n",
        "  for correta, errada in testes:\n",
        "    palavra_corrigida = corretor(errada)\n",
        "    if palavra_corrigida == correta:\n",
        "      acertos += 1\n",
        "    else:\n",
        "      desconhecida += (correta not in vocabulario)\n",
        "  taxa_acerto = round((acertos/numero_palavras) * 100,2)\n",
        "  taxa_desconhecida = round((desconhecida/numero_palavras) * 100,2)\n",
        "  print(\"Taxa de acerto de {} % de {} palavras, desconhecida é de {} %\".format(taxa_acerto,numero_palavras,desconhecida))"
      ],
      "metadata": {
        "id": "Xwt5kmguqKZw"
      },
      "execution_count": 44,
      "outputs": []
    },
    {
      "cell_type": "code",
      "source": [
        "avaliador(lista_teste,set(lista_normalizada))"
      ],
      "metadata": {
        "colab": {
          "base_uri": "https://localhost:8080/"
        },
        "id": "vJXprz83r-cI",
        "outputId": "117add98-fb92-469d-a57a-ead8fc7bda49"
      },
      "execution_count": 45,
      "outputs": [
        {
          "output_type": "stream",
          "name": "stdout",
          "text": [
            "Taxa de acerto de 76.34 % de 186 palavras, desconhecida é de 13 %\n"
          ]
        }
      ]
    }
  ]
}